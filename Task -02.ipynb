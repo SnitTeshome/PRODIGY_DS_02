{
 "cells": [
  {
   "cell_type": "markdown",
   "metadata": {},
   "source": [
    "# Task -02\n",
    "## Data cleaning and Explorartory Data Anaylisis"
   ]
  },
  {
   "cell_type": "code",
   "execution_count": 248,
   "metadata": {},
   "outputs": [
    {
     "data": {
      "image/jpeg": "[encoded data removed]",
      "text/plain": [
       "<IPython.core.display.Image object>"
      ]
     },
     "execution_count": 248,
     "metadata": {
      "image/jpeg": {
       "height": 400,
       "width": 1000
      }
     },
     "output_type": "execute_result"
    }
   ],
   "source": [
    "from IPython.display import Image\n",
    "\n",
    "# Display the image with specified width and height\n",
    "Image(r\"C:\\Users\\Admin\\Desktop\\Titanic.jpeg\", width=1000, height=400)\n"
   ]
  },
  {
   "cell_type": "markdown",
   "metadata": {},
   "source": [
    "###  Data Cleaning"
   ]
  },
  {
   "cell_type": "markdown",
   "metadata": {},
   "source": [
    "####  Import  libraries"
   ]
  },
  {
   "cell_type": "code",
   "execution_count": 249,
   "metadata": {},
   "outputs": [],
   "source": [
    "#type:ignore \n",
    "import pandas as pd                    # for data manipulation and analysis\n",
    "import numpy as np                     # for numerical operations and array manipulation\n",
    "import seaborn as sns                  # for statistical data visualization\n",
    "import matplotlib.pyplot as plt        # for creating visualizations\n",
    "from scipy.stats import norm"
   ]
  },
  {
   "cell_type": "markdown",
   "metadata": {},
   "source": [
    "#### Load the Titanic dataset"
   ]
  },
  {
   "cell_type": "code",
   "execution_count": 250,
   "metadata": {},
   "outputs": [],
   "source": [
    "# Load the Titanic dataset\n",
    "Titanic = pd.read_csv(\"Titanic_Dataset.csv\")"
   ]
  },
  {
   "cell_type": "markdown",
   "metadata": {},
   "source": [
    "#### Understanding the dataset"
   ]
  },
  {
   "cell_type": "code",
   "execution_count": 251,
   "metadata": {},
   "outputs": [
    {
     "name": "stdout",
     "output_type": "stream",
     "text": [
      "<class 'pandas.core.frame.DataFrame'>\n",
      "RangeIndex: 891 entries, 0 to 890\n",
      "Data columns (total 12 columns):\n",
      " #   Column       Non-Null Count  Dtype  \n",
      "---  ------       --------------  -----  \n",
      " 0   PassengerId  891 non-null    int64  \n",
      " 1   Survived     891 non-null    int64  \n",
      " 2   Pclass       891 non-null    int64  \n",
      " 3   Name         891 non-null    object \n",
      " 4   Sex          891 non-null    object \n",
      " 5   Age          714 non-null    float64\n",
      " 6   SibSp        891 non-null    int64  \n",
      " 7   Parch        891 non-null    int64  \n",
      " 8   Ticket       891 non-null    object \n",
      " 9   Fare         891 non-null    float64\n",
      " 10  Cabin        204 non-null    object \n",
      " 11  Embarked     889 non-null    object \n",
      "dtypes: float64(2), int64(5), object(5)\n",
      "memory usage: 83.7+ KB\n"
     ]
    }
   ],
   "source": [
    "#type:ignore\n",
    " \n",
    "# Check the basic info of the dataset\n",
    "Titanic.info()"
   ]
  },
  {
   "cell_type": "markdown",
   "metadata": {},
   "source": [
    "#### Code Description\n",
    "The `Titanic.info()` function provides a summary of the dataset, including:\n",
    "- The number of entries\n",
    "- Column names\n",
    "- Data types\n",
    "- Non-null values"
   ]
  },
  {
   "cell_type": "markdown",
   "metadata": {},
   "source": [
    "#### Titanic Dataset Column Descriptions\n",
    "---\n",
    "- **PassengerId**: A unique identifier for each passenger.\n",
    "- **Survived**: Indicates whether the passenger survived (1) or did not survive (0).\n",
    "- **Pclass**: The passenger's ticket class (1 = first class, 2 = second class, 3 = third class).\n",
    "- **Name**: The name of the passenger.\n",
    "- **Sex**: The gender of the passenger (male or female).\n",
    "- **Age**: The age of the passenger in years.\n",
    "- **SibSp**: The number of siblings or spouses the passenger had on board.\n",
    "- **Parch**: The number of parents or children the passenger had on board.\n",
    "- **Ticket**: The ticket number of the passenger.\n",
    "- **Fare**: The fare paid by the passenger for the ticket, in British pounds. This reflects the travel class and amenities, influencing survival chances; higher fares often indicated first-class accommodations.\n",
    "- **Cabin**: The cabin number assigned to the passenger, indicating their location on the ship. Cabin location played a role in access to lifeboats during the evacuation, affecting survival rates.\n",
    "- **Embarked**: The port of embarkation (C = Cherbourg, Q = Queenstown, S = Southampton)\n",
    "---"
   ]
  },
  {
   "cell_type": "markdown",
   "metadata": {},
   "source": [
    "#### Preview of the Titanic Dataset"
   ]
  },
  {
   "cell_type": "code",
   "execution_count": 252,
   "metadata": {},
   "outputs": [
    {
     "data": {
      "text/html": [
       "<div>\n",
       "<style scoped>\n",
       "    .dataframe tbody tr th:only-of-type {\n",
       "        vertical-align: middle;\n",
       "    }\n",
       "\n",
       "    .dataframe tbody tr th {\n",
       "        vertical-align: top;\n",
       "    }\n",
       "\n",
       "    .dataframe thead th {\n",
       "        text-align: right;\n",
       "    }\n",
       "</style>\n",
       "<table border=\"1\" class=\"dataframe\">\n",
       "  <thead>\n",
       "    <tr style=\"text-align: right;\">\n",
       "      <th></th>\n",
       "      <th>PassengerId</th>\n",
       "      <th>Survived</th>\n",
       "      <th>Pclass</th>\n",
       "      <th>Name</th>\n",
       "      <th>Sex</th>\n",
       "      <th>Age</th>\n",
       "      <th>SibSp</th>\n",
       "      <th>Parch</th>\n",
       "      <th>Ticket</th>\n",
       "      <th>Fare</th>\n",
       "      <th>Cabin</th>\n",
       "      <th>Embarked</th>\n",
       "    </tr>\n",
       "  </thead>\n",
       "  <tbody>\n",
       "    <tr>\n",
       "      <th>0</th>\n",
       "      <td>1</td>\n",
       "      <td>0</td>\n",
       "      <td>3</td>\n",
       "      <td>Braund, Mr. Owen Harris</td>\n",
       "      <td>male</td>\n",
       "      <td>22.0</td>\n",
       "      <td>1</td>\n",
       "      <td>0</td>\n",
       "      <td>A/5 21171</td>\n",
       "      <td>7.2500</td>\n",
       "      <td>NaN</td>\n",
       "      <td>S</td>\n",
       "    </tr>\n",
       "    <tr>\n",
       "      <th>1</th>\n",
       "      <td>2</td>\n",
       "      <td>1</td>\n",
       "      <td>1</td>\n",
       "      <td>Cumings, Mrs. John Bradley (Florence Briggs Th...</td>\n",
       "      <td>female</td>\n",
       "      <td>38.0</td>\n",
       "      <td>1</td>\n",
       "      <td>0</td>\n",
       "      <td>PC 17599</td>\n",
       "      <td>71.2833</td>\n",
       "      <td>C85</td>\n",
       "      <td>C</td>\n",
       "    </tr>\n",
       "    <tr>\n",
       "      <th>2</th>\n",
       "      <td>3</td>\n",
       "      <td>1</td>\n",
       "      <td>3</td>\n",
       "      <td>Heikkinen, Miss. Laina</td>\n",
       "      <td>female</td>\n",
       "      <td>26.0</td>\n",
       "      <td>0</td>\n",
       "      <td>0</td>\n",
       "      <td>STON/O2. 3101282</td>\n",
       "      <td>7.9250</td>\n",
       "      <td>NaN</td>\n",
       "      <td>S</td>\n",
       "    </tr>\n",
       "    <tr>\n",
       "      <th>3</th>\n",
       "      <td>4</td>\n",
       "      <td>1</td>\n",
       "      <td>1</td>\n",
       "      <td>Futrelle, Mrs. Jacques Heath (Lily May Peel)</td>\n",
       "      <td>female</td>\n",
       "      <td>35.0</td>\n",
       "      <td>1</td>\n",
       "      <td>0</td>\n",
       "      <td>113803</td>\n",
       "      <td>53.1000</td>\n",
       "      <td>C123</td>\n",
       "      <td>S</td>\n",
       "    </tr>\n",
       "    <tr>\n",
       "      <th>4</th>\n",
       "      <td>5</td>\n",
       "      <td>0</td>\n",
       "      <td>3</td>\n",
       "      <td>Allen, Mr. William Henry</td>\n",
       "      <td>male</td>\n",
       "      <td>35.0</td>\n",
       "      <td>0</td>\n",
       "      <td>0</td>\n",
       "      <td>373450</td>\n",
       "      <td>8.0500</td>\n",
       "      <td>NaN</td>\n",
       "      <td>S</td>\n",
       "    </tr>\n",
       "  </tbody>\n",
       "</table>\n",
       "</div>"
      ],
      "text/plain": [
       "   PassengerId  Survived  Pclass  \\\n",
       "0            1         0       3   \n",
       "1            2         1       1   \n",
       "2            3         1       3   \n",
       "3            4         1       1   \n",
       "4            5         0       3   \n",
       "\n",
       "                                                Name     Sex   Age  SibSp  \\\n",
       "0                            Braund, Mr. Owen Harris    male  22.0      1   \n",
       "1  Cumings, Mrs. John Bradley (Florence Briggs Th...  female  38.0      1   \n",
       "2                             Heikkinen, Miss. Laina  female  26.0      0   \n",
       "3       Futrelle, Mrs. Jacques Heath (Lily May Peel)  female  35.0      1   \n",
       "4                           Allen, Mr. William Henry    male  35.0      0   \n",
       "\n",
       "   Parch            Ticket     Fare Cabin Embarked  \n",
       "0      0         A/5 21171   7.2500   NaN        S  \n",
       "1      0          PC 17599  71.2833   C85        C  \n",
       "2      0  STON/O2. 3101282   7.9250   NaN        S  \n",
       "3      0            113803  53.1000  C123        S  \n",
       "4      0            373450   8.0500   NaN        S  "
      ]
     },
     "execution_count": 252,
     "metadata": {},
     "output_type": "execute_result"
    }
   ],
   "source": [
    "Titanic.head()"
   ]
  },
  {
   "cell_type": "markdown",
   "metadata": {},
   "source": [
    "#### Code Description\n",
    "---\n",
    "- The `Titanic.head()`function displays the first five rows of the dataset, giving a quick overview of the data structure and the initial values in each column.\n",
    "---"
   ]
  },
  {
   "cell_type": "markdown",
   "metadata": {},
   "source": [
    "#####  Explanation of the Steps\n",
    "---\n",
    "- Checking for duplicates is done first to ensure the dataset's integrity before any further processing, as duplicates can skew analysis results.\n",
    "- Next, verifying data types ensures that each column is correctly formatted for the intended operations, facilitating accurate calculations and analyses.\n",
    "- Finally, filling missing values addresses gaps in the data to maintain completeness and reliability in the dataset, ensuring more robust analysis outcomes.\n",
    "---\n"
   ]
  },
  {
   "cell_type": "markdown",
   "metadata": {},
   "source": [
    "#### Check for Duplicates"
   ]
  },
  {
   "cell_type": "code",
   "execution_count": 253,
   "metadata": {},
   "outputs": [
    {
     "name": "stdout",
     "output_type": "stream",
     "text": [
      "Number of duplicate entries: 0\n"
     ]
    }
   ],
   "source": [
    "# Check for duplicates\n",
    "duplicates = Titanic.duplicated().sum()\n",
    "print(f\"Number of duplicate entries: {duplicates}\")"
   ]
  },
  {
   "cell_type": "markdown",
   "metadata": {},
   "source": [
    "##### Code Description\n",
    "---\n",
    "- `Titanic.duplicated().sum()` This code checks for duplicate entries in the Titanic DataFrame by identifying rows that are identical and counts them, outputting the total number of duplicates.\n",
    "---"
   ]
  },
  {
   "cell_type": "code",
   "execution_count": 254,
   "metadata": {},
   "outputs": [
    {
     "name": "stdout",
     "output_type": "stream",
     "text": [
      "Data types\n"
     ]
    },
    {
     "data": {
      "text/plain": [
       "PassengerId      int64\n",
       "Survived         int64\n",
       "Pclass           int64\n",
       "Name            object\n",
       "Sex             object\n",
       "Age            float64\n",
       "SibSp            int64\n",
       "Parch            int64\n",
       "Ticket          object\n",
       "Fare           float64\n",
       "Cabin           object\n",
       "Embarked        object\n",
       "dtype: object"
      ]
     },
     "execution_count": 254,
     "metadata": {},
     "output_type": "execute_result"
    }
   ],
   "source": [
    "# Check data types\n",
    "print(\"Data types\")\n",
    "Titanic.dtypes"
   ]
  },
  {
   "cell_type": "markdown",
   "metadata": {},
   "source": [
    "#####  Transforming to convenient data types"
   ]
  },
  {
   "cell_type": "code",
   "execution_count": 255,
   "metadata": {},
   "outputs": [
    {
     "name": "stdout",
     "output_type": "stream",
     "text": [
      "\n",
      "Data types after conversion:\n",
      "PassengerId       int64\n",
      "Survived       category\n",
      "Pclass         category\n",
      "Name           category\n",
      "Sex            category\n",
      "Age             float64\n",
      "SibSp             int64\n",
      "Parch             int64\n",
      "Ticket         category\n",
      "Fare            float64\n",
      "Cabin          category\n",
      "Embarked       category\n",
      "dtype: object\n"
     ]
    }
   ],
   "source": [
    "# Specifying the columns to convert\n",
    "cols = ['Pclass','Name', 'Sex', 'Ticket', 'Cabin', 'Embarked' ,'Survived' ]\n",
    "\n",
    "# Converting the specified columns to categorical types\n",
    "for col in cols:\n",
    "    Titanic[col] = Titanic[col].astype('category')\n",
    "\n",
    "# Check the data types to confirm the changes\n",
    "print(\"\\nData types after conversion:\")\n",
    "print(Titanic.dtypes)\n"
   ]
  },
  {
   "cell_type": "markdown",
   "metadata": {},
   "source": [
    "##### Code Description\n",
    "---\n",
    "- This code snippet converts specified columns in the Titanic DataFrame to categorical data types. To enhance the performance of data analysis tasks. The columns being converted are:\n",
    "\n",
    "-**Name**: The full name of the passenger.\n",
    "\n",
    "-**Sex**: The gender of the passenger (male or female).\n",
    "\n",
    "-**Ticket**: The ticket number of the passenger.\n",
    "\n",
    "-**Cabin**: The cabin number assigned to the passenger.\n",
    "\n",
    "-**Embarked**: The port of embarkation (C = Cherbourg, Q = Queenstown, S = Southampton).\n"
   ]
  },
  {
   "cell_type": "code",
   "execution_count": 256,
   "metadata": {},
   "outputs": [],
   "source": [
    "# Changing PassengerId to string\n",
    "Titanic['PassengerId'] = Titanic['PassengerId'].astype(str)"
   ]
  },
  {
   "cell_type": "markdown",
   "metadata": {},
   "source": [
    "##### Code Description\n",
    "---\n",
    "- This code changes the data type of the **PassengerId** column to a string (object) type, preserving leading zeros and treating it as a categorical variable rather than a numerical one, preserving any leading zeros and avoiding mathematical operations that are unnecessary for identifiers.\n",
    "---"
   ]
  },
  {
   "cell_type": "code",
   "execution_count": 257,
   "metadata": {},
   "outputs": [
    {
     "data": {
      "text/plain": [
       "PassengerId      object\n",
       "Survived       category\n",
       "Pclass         category\n",
       "Name           category\n",
       "Sex            category\n",
       "Age             float64\n",
       "SibSp             int64\n",
       "Parch             int64\n",
       "Ticket         category\n",
       "Fare            float64\n",
       "Cabin          category\n",
       "Embarked       category\n",
       "dtype: object"
      ]
     },
     "execution_count": 257,
     "metadata": {},
     "output_type": "execute_result"
    }
   ],
   "source": [
    "Titanic.dtypes"
   ]
  },
  {
   "cell_type": "markdown",
   "metadata": {},
   "source": [
    "#### Check for Missing Values"
   ]
  },
  {
   "cell_type": "code",
   "execution_count": 258,
   "metadata": {},
   "outputs": [
    {
     "data": {
      "text/plain": [
       "PassengerId      0\n",
       "Survived         0\n",
       "Pclass           0\n",
       "Name             0\n",
       "Sex              0\n",
       "Age            177\n",
       "SibSp            0\n",
       "Parch            0\n",
       "Ticket           0\n",
       "Fare             0\n",
       "Cabin          687\n",
       "Embarked         2\n",
       "dtype: int64"
      ]
     },
     "execution_count": 258,
     "metadata": {},
     "output_type": "execute_result"
    }
   ],
   "source": [
    "Titanic.isnull().sum()"
   ]
  },
  {
   "cell_type": "markdown",
   "metadata": {},
   "source": [
    "##### Code description\n",
    "---\n",
    "\n",
    "**`Titanic`**: The dataset containing information about the Titanic passengers.\n",
    "\n",
    "**`.isnull()`**: This function checks for missing values, returning `True` for missing (null) entries and `False` for present values.\n",
    "\n",
    "**`.sum()`**: This function counts the number of `True` values (missing entries) in each column, effectively tallying the missing values.\n",
    "\n",
    "--- \n",
    "##### Output Analysis\n",
    "\n",
    "The columns **PassengerId**, **Survived**, **Pclass**, **Name**, **Sex**, **SibSp**, and **Ticket** have no missing values, indicating complete data.\n",
    "\n",
    "In contrast, the **Age**, **Cabin**, and **Embarked** columns contain missing values, which need to be addressed for thorough analysis.\n",
    "\n",
    "\n",
    "\n"
   ]
  },
  {
   "cell_type": "markdown",
   "metadata": {},
   "source": [
    "##### Handling  Missing Values"
   ]
  },
  {
   "cell_type": "code",
   "execution_count": 259,
   "metadata": {},
   "outputs": [],
   "source": [
    "# Fill missing values in the Age column with the mean\n",
    "\n",
    "# Calculate the mean age\n",
    "mean_age = Titanic['Age'].mean()\n",
    "Titanic['Age'] = Titanic['Age'].fillna(mean_age)"
   ]
  },
  {
   "cell_type": "markdown",
   "metadata": {},
   "source": [
    "##### Code description\n",
    "---\n",
    "-The code calculates the mean age of passengers using the `mean()` function on the **Age** column. It then uses `fillna()`It then replaces any missing values in the **Age** and assigning the result back to the Age column directly.\n",
    "\n",
    "-The mean is used for the **Age** column because it provides a central value that represents the average age of passengers, making it a suitable choice for filling missing values in a numerical dataset. This approach minimizes distortion of the overall age distribution compared to filling with a value that may be too high or too low.\n",
    "\n",
    "---"
   ]
  },
  {
   "cell_type": "code",
   "execution_count": 260,
   "metadata": {},
   "outputs": [],
   "source": [
    "# Fill missing values in the Embarked column with the mode\n",
    "mode_embarked = Titanic['Embarked'].mode()[0]  # Get the first mode if there are multiple\n",
    "Titanic['Embarked'] = Titanic['Embarked'].fillna(mode_embarked)"
   ]
  },
  {
   "cell_type": "markdown",
   "metadata": {},
   "source": [
    "##### Code description\n",
    "---\n",
    "- The code computes the mode of the **Embarked** column using the `mode()` function, which identifies the most frequently occurring embarkation point. It then uses fillna() to replace any missing values in the Embarked column with this mode value and assigns the result back to the original column in the DataFrame, effectively updating it without needing inplace=True.\n",
    "\n",
    "- The mode is used for the **Embarked** column is catagorical data because it reflects the most common embarkation point among passengers. This method preserves the dataset's overall distribution and ensures that the imputed values accurately represent the majority experience of the passengers.\n",
    "---\n"
   ]
  },
  {
   "cell_type": "markdown",
   "metadata": {},
   "source": [
    "##### Conditions consider Filling missing values of `Cabin column`\n",
    "-Filling missing values for the `Cabin column` in the Titanic dataset can be approached in a few ways, but given that a significant portion (687 out of 891) is missing, it's important to choose a method that maintains the integrity of the  analysis. \n",
    "\n",
    "---"
   ]
  },
  {
   "cell_type": "markdown",
   "metadata": {},
   "source": [
    "##### Imputation Based on Other Features"
   ]
  },
  {
   "cell_type": "code",
   "execution_count": 261,
   "metadata": {},
   "outputs": [],
   "source": [
    "# Fill missing values in the Cabin column based on Pclass\n",
    "for pclass in Titanic['Pclass'].unique():\n",
    "    most_common_cabin = Titanic[Titanic['Pclass'] == pclass]['Cabin'].mode()[0]\n",
    "    Titanic.loc[(Titanic['Pclass'] == pclass) & (Titanic['Cabin'].isnull()), 'Cabin'] = most_common_cabin"
   ]
  },
  {
   "cell_type": "markdown",
   "metadata": {},
   "source": [
    "##### Code Explanation:\n",
    "- **Loop Through Unique Pclass Values**: The `for` loop iterates over each unique value in the **Pclass** column. This allows us to analyze the data for each class of passengers separately.\n",
    "  \n",
    "- **Calculate Most Common Cabin**: \n",
    "  - `most_common_cabin = Titanic[Titanic['Pclass'] == pclass]['Cabin'].mode()[0]`:\n",
    "    - This line filters the Titanic DataFrame to include only the rows where **Pclass** equals the current `pclass` in the loop.\n",
    "    - It then computes the mode (most frequently occurring value) of the **Cabin** column for that specific **Pclass**.\n",
    "    - `[0]` retrieves the first mode in case there are multiple modes.\n",
    "\n",
    "- **Fill Missing Values**:\n",
    "  - `Titanic.loc[(Titanic['Pclass'] == pclass) & (Titanic['Cabin'].isnull()), 'Cabin'] = most_common_cabin`:\n",
    "    - This line uses the `.loc` accessor to target rows in the DataFrame where the **Pclass** matches the current `pclass` and the **Cabin** value is missing (is null).\n",
    "    - It assigns the previously calculated `most_common_cabin` to those missing **Cabin** entries.\n",
    "\n",
    "### Summary:\n",
    "This approach ensures that missing cabin values are filled with the most common cabin assignment specific to each passenger class, improving the accuracy and relevance of the data imputation process. By leveraging the known relationships between **Pclass** and cabin assignments, this method enhances the integrity of the dataset."
   ]
  },
  {
   "cell_type": "markdown",
   "metadata": {},
   "source": [
    "###  Handling Outliers by lower bound and upper bound"
   ]
  },
  {
   "cell_type": "code",
   "execution_count": 262,
   "metadata": {},
   "outputs": [
    {
     "name": "stdout",
     "output_type": "stream",
     "text": [
      "Column     Lower Bound         Upper Bound         Outlier Count       \n",
      "======================================================================\n",
      "Age        2.5                  54.5                 66                  \n",
      "Fare       -26.72               65.63                116                 \n",
      "Parch      0.0                  0.0                  213                 \n",
      "SibSp      -1.5                 2.5                  46                  \n"
     ]
    }
   ],
   "source": [
    "# Function to identify outliers using IQR\n",
    "numerical_cols = ['Age', 'Fare','Parch','SibSp']\n",
    "\n",
    "def identify_outliers_iqr(df, column):\n",
    "    Q1 = df[column].quantile(0.25)\n",
    "    Q3 = df[column].quantile(0.75)\n",
    "    IQR = Q3 - Q1\n",
    "    \n",
    "    lower_bound = Q1 - 1.5 * IQR\n",
    "    upper_bound = Q3 + 1.5 * IQR\n",
    "    \n",
    "    return lower_bound, upper_bound\n",
    "\n",
    "# Identify outliers for 'Age', 'SibSp', 'Fare', and 'Parch'\n",
    "print(\"{:<10} {:<20}{:<20}{:<20}\".format(\"Column\", \"Lower Bound\", \"Upper Bound\", \"Outlier Count\"))\n",
    "print(\"=\" * 70)\n",
    "\n",
    "for col in    ['Age', 'Fare','Parch','SibSp']:\n",
    "    lower, upper = identify_outliers_iqr(Titanic, col)\n",
    "    \n",
    "    # Count outliers\n",
    "    outlier_count = Titanic[(Titanic[col] < lower) | (Titanic[col] > upper)].shape[0]\n",
    "    \n",
    "    # Print results in neat format\n",
    "    print(\"{:<10} {:<20} {:<20} {:<20}\".format(col, round(lower, 2), round(upper, 2), outlier_count))"
   ]
  },
  {
   "cell_type": "markdown",
   "metadata": {},
   "source": [
    "##### Explanation of Outlier Detection Code\n",
    "---\n",
    "\n",
    " **Function Definition**:\n",
    "   - The `identify_outliers_iqr` function computes the lower and upper bounds for outliers based on the first (Q1) and third (Q3) quartiles. \n",
    "   - The formula used for this calculation is:\n",
    "     \\[\n",
    "     \\text{IQR} = Q3 - Q1\n",
    "     \\]\n",
    "   - Outliers are defined as values that fall below \\( Q1 - 1.5 *{IQR} \\) or above \\( Q3 + 1.5 \\*{IQR} \\).\n",
    "   \n",
    "**Looping Through Columns**:\n",
    "   - The code iterates through each specified column (Age, Fare, Parch, and SibSp).\n",
    "   - For each column, it:\n",
    "     - Calculates the lower and upper bounds for outliers.\n",
    "     - Counts the number of outliers that fall outside of these bounds.\n",
    "     - Prints the results in an organized format, showing the column name, lower bound, upper bound, and the count of outliers.\n",
    "\n",
    "##### Purpose\n",
    "---\n",
    "This method of outlier detection is essential for understanding the distribution of data and identifying anomalies within the dataset. Detecting and addressing outliers can improve the quality of data analysis and modeling.\n",
    "\n",
    "---\n"
   ]
  },
  {
   "cell_type": "markdown",
   "metadata": {},
   "source": [
    "##### Capping Outliers  Using IQR Method"
   ]
  },
  {
   "cell_type": "code",
   "execution_count": 263,
   "metadata": {},
   "outputs": [
    {
     "name": "stdout",
     "output_type": "stream",
     "text": [
      "Age        0                    \n",
      "Fare       0                    \n",
      "Parch      0                    \n",
      "SibSp      0                    \n"
     ]
    }
   ],
   "source": [
    "# Function to cap outliers using IQR\n",
    "def cap_outliers_iqr(df, column):\n",
    "    Q1 = df[column].quantile(0.25)\n",
    "    Q3 = df[column].quantile(0.75)\n",
    "    IQR = Q3 - Q1\n",
    "    \n",
    "    lower_bound = Q1 - 1.5 * IQR\n",
    "    upper_bound = Q3 + 1.5 * IQR\n",
    "    \n",
    "    # Capping the outliers\n",
    "    df[column] = df[column].clip(lower=lower_bound, upper=upper_bound)\n",
    "\n",
    "# List of columns to cap\n",
    "columns_to_cap = ['Age', 'Fare','Parch','SibSp']\n",
    "\n",
    "# Apply capping for each specified column\n",
    "for col in columns_to_cap:\n",
    "    cap_outliers_iqr(Titanic, col)\n",
    "\n",
    "for col in columns_to_cap:\n",
    "    lower, upper = identify_outliers_iqr(Titanic, col)\n",
    "    \n",
    "    # Count outliers after capping\n",
    "    outlier_count_after = Titanic[(Titanic[col] < lower) | (Titanic[col] > upper)].shape[0]\n",
    "    \n",
    "    # Print results for outliers after capping\n",
    "    print(\"{:<10} {:<20} \".format(col, outlier_count_after))"
   ]
  },
  {
   "cell_type": "markdown",
   "metadata": {},
   "source": [
    "##### Explanation of the Code\n",
    "\n",
    "- The function `cap_outliers_iqr` is designed to cap outliers in a specified DataFrame column.\n",
    "- It calculates the first quartile (Q1) and third quartile (Q3) to determine the interquartile range (IQR).\n",
    "- Lower and upper bounds for outliers are set using \\( Q1 - 1.5 * {IQR} \\) and \\( Q3 + 1.5 * {IQR} \\).\n",
    "- The function uses the `clip()` method to cap values that fall below or above these bounds.\n",
    "- A list of columns ('Age', 'SibSp', 'Fare', 'Parch') is specified, and the capping function is applied to each of them.\n",
    "\n"
   ]
  },
  {
   "cell_type": "markdown",
   "metadata": {},
   "source": [
    "##### Counting Outliers After Capping in the Dataset Using IQR Method"
   ]
  },
  {
   "cell_type": "code",
   "execution_count": 264,
   "metadata": {},
   "outputs": [
    {
     "name": "stdout",
     "output_type": "stream",
     "text": [
      "Age         0                   \n",
      "Fare        0                   \n",
      "Parch       0                   \n",
      "SibSp       0                   \n"
     ]
    }
   ],
   "source": [
    "for col in columns_to_cap:\n",
    "    lower, upper = identify_outliers_iqr(Titanic, col)\n",
    "    \n",
    "    # Count outliers after capping\n",
    "    outlier_count_after = Titanic[(Titanic[col] < lower) | (Titanic[col] > upper)].shape[0]\n",
    "    \n",
    "    # Print results for outliers after capping\n",
    "    print(\"{:<10}  {:<20}\".format(col, outlier_count_after))"
   ]
  },
  {
   "cell_type": "markdown",
   "metadata": {},
   "source": [
    "### Code Explanation\n",
    "\n",
    "- The loop iterates over each column specified in `columns_to_cap`.\n",
    "- For each column, it calls the `identify_outliers_iqr` function to retrieve the lower and upper bounds for outliers.\n",
    "- It counts the number of outliers that remain after capping by checking which values fall outside the determined bounds.\n",
    "- Finally, it prints the number of outliers that are present in each column after the capping operation.\n",
    "\n"
   ]
  },
  {
   "cell_type": "markdown",
   "metadata": {},
   "source": [
    "##### Lets check before performing any anaylis"
   ]
  },
  {
   "cell_type": "code",
   "execution_count": 265,
   "metadata": {},
   "outputs": [
    {
     "name": "stdout",
     "output_type": "stream",
     "text": [
      "<class 'pandas.core.frame.DataFrame'>\n",
      "RangeIndex: 891 entries, 0 to 890\n",
      "Data columns (total 12 columns):\n",
      " #   Column       Non-Null Count  Dtype   \n",
      "---  ------       --------------  -----   \n",
      " 0   PassengerId  891 non-null    object  \n",
      " 1   Survived     891 non-null    category\n",
      " 2   Pclass       891 non-null    category\n",
      " 3   Name         891 non-null    category\n",
      " 4   Sex          891 non-null    category\n",
      " 5   Age          891 non-null    float64 \n",
      " 6   SibSp        891 non-null    float64 \n",
      " 7   Parch        891 non-null    int64   \n",
      " 8   Ticket       891 non-null    category\n",
      " 9   Fare         891 non-null    float64 \n",
      " 10  Cabin        891 non-null    category\n",
      " 11  Embarked     891 non-null    category\n",
      "dtypes: category(7), float64(3), int64(1), object(1)\n",
      "memory usage: 110.1+ KB\n"
     ]
    }
   ],
   "source": [
    "# Display the updated DataFrame info\n",
    "Titanic.info()"
   ]
  },
  {
   "cell_type": "markdown",
   "metadata": {},
   "source": [
    "##### Rearranging Titanic DataFrame Columns for Improved Clarity"
   ]
  },
  {
   "cell_type": "code",
   "execution_count": 266,
   "metadata": {},
   "outputs": [
    {
     "data": {
      "text/html": [
       "<div>\n",
       "<style scoped>\n",
       "    .dataframe tbody tr th:only-of-type {\n",
       "        vertical-align: middle;\n",
       "    }\n",
       "\n",
       "    .dataframe tbody tr th {\n",
       "        vertical-align: top;\n",
       "    }\n",
       "\n",
       "    .dataframe thead th {\n",
       "        text-align: right;\n",
       "    }\n",
       "</style>\n",
       "<table border=\"1\" class=\"dataframe\">\n",
       "  <thead>\n",
       "    <tr style=\"text-align: right;\">\n",
       "      <th></th>\n",
       "      <th>PassengerId</th>\n",
       "      <th>Name</th>\n",
       "      <th>Sex</th>\n",
       "      <th>Age</th>\n",
       "      <th>Pclass</th>\n",
       "      <th>SibSp</th>\n",
       "      <th>Parch</th>\n",
       "      <th>Embarked</th>\n",
       "      <th>Ticket</th>\n",
       "      <th>Fare</th>\n",
       "      <th>Cabin</th>\n",
       "      <th>Survived</th>\n",
       "    </tr>\n",
       "  </thead>\n",
       "  <tbody>\n",
       "    <tr>\n",
       "      <th>0</th>\n",
       "      <td>1</td>\n",
       "      <td>Braund, Mr. Owen Harris</td>\n",
       "      <td>male</td>\n",
       "      <td>22.0</td>\n",
       "      <td>3</td>\n",
       "      <td>1.0</td>\n",
       "      <td>0</td>\n",
       "      <td>S</td>\n",
       "      <td>A/5 21171</td>\n",
       "      <td>7.2500</td>\n",
       "      <td>G6</td>\n",
       "      <td>0</td>\n",
       "    </tr>\n",
       "    <tr>\n",
       "      <th>1</th>\n",
       "      <td>2</td>\n",
       "      <td>Cumings, Mrs. John Bradley (Florence Briggs Th...</td>\n",
       "      <td>female</td>\n",
       "      <td>38.0</td>\n",
       "      <td>1</td>\n",
       "      <td>1.0</td>\n",
       "      <td>0</td>\n",
       "      <td>C</td>\n",
       "      <td>PC 17599</td>\n",
       "      <td>65.6344</td>\n",
       "      <td>C85</td>\n",
       "      <td>1</td>\n",
       "    </tr>\n",
       "    <tr>\n",
       "      <th>2</th>\n",
       "      <td>3</td>\n",
       "      <td>Heikkinen, Miss. Laina</td>\n",
       "      <td>female</td>\n",
       "      <td>26.0</td>\n",
       "      <td>3</td>\n",
       "      <td>0.0</td>\n",
       "      <td>0</td>\n",
       "      <td>S</td>\n",
       "      <td>STON/O2. 3101282</td>\n",
       "      <td>7.9250</td>\n",
       "      <td>G6</td>\n",
       "      <td>1</td>\n",
       "    </tr>\n",
       "    <tr>\n",
       "      <th>3</th>\n",
       "      <td>4</td>\n",
       "      <td>Futrelle, Mrs. Jacques Heath (Lily May Peel)</td>\n",
       "      <td>female</td>\n",
       "      <td>35.0</td>\n",
       "      <td>1</td>\n",
       "      <td>1.0</td>\n",
       "      <td>0</td>\n",
       "      <td>S</td>\n",
       "      <td>113803</td>\n",
       "      <td>53.1000</td>\n",
       "      <td>C123</td>\n",
       "      <td>1</td>\n",
       "    </tr>\n",
       "    <tr>\n",
       "      <th>4</th>\n",
       "      <td>5</td>\n",
       "      <td>Allen, Mr. William Henry</td>\n",
       "      <td>male</td>\n",
       "      <td>35.0</td>\n",
       "      <td>3</td>\n",
       "      <td>0.0</td>\n",
       "      <td>0</td>\n",
       "      <td>S</td>\n",
       "      <td>373450</td>\n",
       "      <td>8.0500</td>\n",
       "      <td>G6</td>\n",
       "      <td>0</td>\n",
       "    </tr>\n",
       "  </tbody>\n",
       "</table>\n",
       "</div>"
      ],
      "text/plain": [
       "  PassengerId                                               Name     Sex  \\\n",
       "0           1                            Braund, Mr. Owen Harris    male   \n",
       "1           2  Cumings, Mrs. John Bradley (Florence Briggs Th...  female   \n",
       "2           3                             Heikkinen, Miss. Laina  female   \n",
       "3           4       Futrelle, Mrs. Jacques Heath (Lily May Peel)  female   \n",
       "4           5                           Allen, Mr. William Henry    male   \n",
       "\n",
       "    Age Pclass  SibSp  Parch Embarked            Ticket     Fare Cabin  \\\n",
       "0  22.0      3    1.0      0        S         A/5 21171   7.2500    G6   \n",
       "1  38.0      1    1.0      0        C          PC 17599  65.6344   C85   \n",
       "2  26.0      3    0.0      0        S  STON/O2. 3101282   7.9250    G6   \n",
       "3  35.0      1    1.0      0        S            113803  53.1000  C123   \n",
       "4  35.0      3    0.0      0        S            373450   8.0500    G6   \n",
       "\n",
       "  Survived  \n",
       "0        0  \n",
       "1        1  \n",
       "2        1  \n",
       "3        1  \n",
       "4        0  "
      ]
     },
     "execution_count": 266,
     "metadata": {},
     "output_type": "execute_result"
    }
   ],
   "source": [
    "# Rearranging the columns as per your specified order\n",
    "new_order = ['PassengerId', 'Name', 'Sex', 'Age', 'Pclass', 'SibSp', 'Parch', 'Embarked','Ticket','Fare', 'Cabin' ,'Survived']\n",
    "\n",
    "# Reindex the DataFrame in place\n",
    "Titanic = Titanic.reindex(columns=new_order)\n",
    "\n",
    "# Display the rearranged DataFrame structure\n",
    "Titanic.head()\n"
   ]
  },
  {
   "cell_type": "markdown",
   "metadata": {},
   "source": [
    "## Exploratory Data Analysis (EDA)"
   ]
  },
  {
   "cell_type": "markdown",
   "metadata": {},
   "source": [
    "##### Summary Stastics"
   ]
  },
  {
   "cell_type": "code",
   "execution_count": 267,
   "metadata": {},
   "outputs": [
    {
     "data": {
      "text/html": [
       "<div>\n",
       "<style scoped>\n",
       "    .dataframe tbody tr th:only-of-type {\n",
       "        vertical-align: middle;\n",
       "    }\n",
       "\n",
       "    .dataframe tbody tr th {\n",
       "        vertical-align: top;\n",
       "    }\n",
       "\n",
       "    .dataframe thead th {\n",
       "        text-align: right;\n",
       "    }\n",
       "</style>\n",
       "<table border=\"1\" class=\"dataframe\">\n",
       "  <thead>\n",
       "    <tr style=\"text-align: right;\">\n",
       "      <th></th>\n",
       "      <th>Age</th>\n",
       "      <th>SibSp</th>\n",
       "      <th>Parch</th>\n",
       "      <th>Fare</th>\n",
       "    </tr>\n",
       "  </thead>\n",
       "  <tbody>\n",
       "    <tr>\n",
       "      <th>count</th>\n",
       "      <td>891.00</td>\n",
       "      <td>891.00</td>\n",
       "      <td>891.0</td>\n",
       "      <td>891.00</td>\n",
       "    </tr>\n",
       "    <tr>\n",
       "      <th>mean</th>\n",
       "      <td>29.38</td>\n",
       "      <td>0.40</td>\n",
       "      <td>0.0</td>\n",
       "      <td>24.05</td>\n",
       "    </tr>\n",
       "    <tr>\n",
       "      <th>std</th>\n",
       "      <td>12.06</td>\n",
       "      <td>0.64</td>\n",
       "      <td>0.0</td>\n",
       "      <td>20.48</td>\n",
       "    </tr>\n",
       "    <tr>\n",
       "      <th>min</th>\n",
       "      <td>2.50</td>\n",
       "      <td>0.00</td>\n",
       "      <td>0.0</td>\n",
       "      <td>0.00</td>\n",
       "    </tr>\n",
       "    <tr>\n",
       "      <th>25%</th>\n",
       "      <td>22.00</td>\n",
       "      <td>0.00</td>\n",
       "      <td>0.0</td>\n",
       "      <td>7.91</td>\n",
       "    </tr>\n",
       "    <tr>\n",
       "      <th>50%</th>\n",
       "      <td>29.70</td>\n",
       "      <td>0.00</td>\n",
       "      <td>0.0</td>\n",
       "      <td>14.45</td>\n",
       "    </tr>\n",
       "    <tr>\n",
       "      <th>75%</th>\n",
       "      <td>35.00</td>\n",
       "      <td>1.00</td>\n",
       "      <td>0.0</td>\n",
       "      <td>31.00</td>\n",
       "    </tr>\n",
       "    <tr>\n",
       "      <th>max</th>\n",
       "      <td>54.50</td>\n",
       "      <td>2.00</td>\n",
       "      <td>0.0</td>\n",
       "      <td>65.63</td>\n",
       "    </tr>\n",
       "  </tbody>\n",
       "</table>\n",
       "</div>"
      ],
      "text/plain": [
       "          Age   SibSp  Parch    Fare\n",
       "count  891.00  891.00  891.0  891.00\n",
       "mean    29.38    0.40    0.0   24.05\n",
       "std     12.06    0.64    0.0   20.48\n",
       "min      2.50    0.00    0.0    0.00\n",
       "25%     22.00    0.00    0.0    7.91\n",
       "50%     29.70    0.00    0.0   14.45\n",
       "75%     35.00    1.00    0.0   31.00\n",
       "max     54.50    2.00    0.0   65.63"
      ]
     },
     "execution_count": 267,
     "metadata": {},
     "output_type": "execute_result"
    }
   ],
   "source": [
    "# Get statistical summary of numerical columns\n",
    "#  code to clean and convert fractional values in SibSp and Parch\n",
    "Titanic['SibSp'] = Titanic['SibSp'].apply(lambda x: round(x) if x.is_integer() else int(x))\n",
    "Titanic['Parch'] = Titanic['Parch'].apply(lambda x: round(x) if x.is_integer() else int(x))\n",
    "\n",
    "numerical_summary = round(Titanic.describe(),2)\n",
    "numerical_summary"
   ]
  },
  {
   "cell_type": "code",
   "execution_count": 268,
   "metadata": {},
   "outputs": [
    {
     "data": {
      "text/html": [
       "<div>\n",
       "<style scoped>\n",
       "    .dataframe tbody tr th:only-of-type {\n",
       "        vertical-align: middle;\n",
       "    }\n",
       "\n",
       "    .dataframe tbody tr th {\n",
       "        vertical-align: top;\n",
       "    }\n",
       "\n",
       "    .dataframe thead th {\n",
       "        text-align: right;\n",
       "    }\n",
       "</style>\n",
       "<table border=\"1\" class=\"dataframe\">\n",
       "  <thead>\n",
       "    <tr style=\"text-align: right;\">\n",
       "      <th></th>\n",
       "      <th>count</th>\n",
       "      <th>mean</th>\n",
       "      <th>std</th>\n",
       "      <th>min</th>\n",
       "      <th>25%</th>\n",
       "      <th>50%</th>\n",
       "      <th>75%</th>\n",
       "      <th>max</th>\n",
       "    </tr>\n",
       "  </thead>\n",
       "  <tbody>\n",
       "    <tr>\n",
       "      <th>Age</th>\n",
       "      <td>891.0</td>\n",
       "      <td>29.38</td>\n",
       "      <td>12.06</td>\n",
       "      <td>2.5</td>\n",
       "      <td>22.00</td>\n",
       "      <td>29.70</td>\n",
       "      <td>35.0</td>\n",
       "      <td>54.50</td>\n",
       "    </tr>\n",
       "    <tr>\n",
       "      <th>SibSp</th>\n",
       "      <td>891.0</td>\n",
       "      <td>0.40</td>\n",
       "      <td>0.64</td>\n",
       "      <td>0.0</td>\n",
       "      <td>0.00</td>\n",
       "      <td>0.00</td>\n",
       "      <td>1.0</td>\n",
       "      <td>2.00</td>\n",
       "    </tr>\n",
       "    <tr>\n",
       "      <th>Parch</th>\n",
       "      <td>891.0</td>\n",
       "      <td>0.00</td>\n",
       "      <td>0.00</td>\n",
       "      <td>0.0</td>\n",
       "      <td>0.00</td>\n",
       "      <td>0.00</td>\n",
       "      <td>0.0</td>\n",
       "      <td>0.00</td>\n",
       "    </tr>\n",
       "    <tr>\n",
       "      <th>Fare</th>\n",
       "      <td>891.0</td>\n",
       "      <td>24.05</td>\n",
       "      <td>20.48</td>\n",
       "      <td>0.0</td>\n",
       "      <td>7.91</td>\n",
       "      <td>14.45</td>\n",
       "      <td>31.0</td>\n",
       "      <td>65.63</td>\n",
       "    </tr>\n",
       "  </tbody>\n",
       "</table>\n",
       "</div>"
      ],
      "text/plain": [
       "       count   mean    std  min    25%    50%   75%    max\n",
       "Age    891.0  29.38  12.06  2.5  22.00  29.70  35.0  54.50\n",
       "SibSp  891.0   0.40   0.64  0.0   0.00   0.00   1.0   2.00\n",
       "Parch  891.0   0.00   0.00  0.0   0.00   0.00   0.0   0.00\n",
       "Fare   891.0  24.05  20.48  0.0   7.91  14.45  31.0  65.63"
      ]
     },
     "execution_count": 268,
     "metadata": {},
     "output_type": "execute_result"
    }
   ],
   "source": [
    "### for better clarirty\n",
    "numerical_summary.transpose() # Transpose for easier reading"
   ]
  },
  {
   "cell_type": "markdown",
   "metadata": {},
   "source": [
    "### Interpretation of Summary Statistics\n",
    "---\n",
    "\n",
    "#####  **Age:**\n",
    "   - **Count:** There are 891 entries for age.\n",
    "   - **Mean:** The average age of passengers is approximately 29.38 years.\n",
    "   - **Standard Deviation:** The age of passengers varies with a standard deviation of 12.06 years, indicating a moderate spread of ages around the mean.\n",
    "   - **Minimum and Maximum:** The youngest passenger is 2.5 years old, while the oldest is 54.5 years, suggesting a diverse age range among the passengers.\n",
    "   - **Percentiles:** \n",
    "     - 25% of passengers are aged 22 or younger.\n",
    "     - 50% (the median) are 29.7 years or younger, indicating that half the passengers are under this age.\n",
    "     - 75% of passengers are aged 35 or younger.\n",
    "\n",
    "#####  **SibSp (Siblings/Spouses Aboard):**\n",
    "   - **Count:** There are 891 entries for siblings/spouses aboard.\n",
    "   - **Mean:** On average, passengers had approximately 0.40 siblings/spouses aboard, indicating that most passengers traveled alone or with very few family members.\n",
    "   - **Standard Deviation:** The standard deviation of 0.64 suggests that while many passengers had none, a few had more than one sibling or spouse aboard.\n",
    "   - **Minimum and Maximum:** The minimum value is 0 (no siblings/spouses), and the maximum is 2.5, which indicates a potential anomaly since fractional counts typically do not apply in this context.\n",
    "   - **Percentiles:** \n",
    "     - 25% of passengers had no siblings/spouses aboard.\n",
    "     - 50% of passengers (the median) also had no siblings/spouses.\n",
    "     - 75% of passengers had one sibling/spouse aboard.\n",
    "\n",
    "#####  **Parch (Parents/Children Aboard):**\n",
    "   - **Count:** There are also 891 entries for parents/children aboard.\n",
    "   - **Mean:** The average number of parents/children aboard is 0.0, indicating that most passengers were traveling without children or parents.\n",
    "   - **Standard Deviation:** A standard deviation of 0.0 suggests that there was no variability in this column; essentially, the values for all passengers were either 0 or possibly undefined due to the lack of any entries for parents or children.\n",
    "   - **Minimum and Maximum:** The minimum is 0 (no parents/children), and the maximum is also 0, confirming that no passengers had parents or children with them.\n",
    "   - **Percentiles:** \n",
    "     - All percentiles are 0, reinforcing that most passengers traveled alone.\n",
    "\n",
    "#####  **Fare:**\n",
    "   - **Count:** There are 891 entries for fare.\n",
    "   - **Mean:** The average fare paid by passengers is approximately 24.05.\n",
    "   - **Standard Deviation:** The standard deviation of 20.48 indicates significant variation in fares paid by passengers, reflecting a diverse economic background.\n",
    "   - **Minimum and Maximum:** The minimum fare is 0.00, possibly indicating either a fare exemption or an entry error, while the maximum fare is 65.63, representing the highest fare paid by any passenger.\n",
    "   - **Percentiles:**\n",
    "     - 25% of passengers paid 7.91 or less.\n",
    "     - 50% (the median) paid 14.45 or less.\n",
    "     - 75% of passengers paid 31.00 or less.\n",
    "\n",
    "##### Recommendations for Addressing Fractional Values\n",
    "- In conclusion, while the dataset provides insightful statistics about the passengers, addressing the anomalies related to fractional values is crucial for ensuring the quality and reliability of any subsequent analyses.\n",
    "\n",
    "---"
   ]
  },
  {
   "cell_type": "markdown",
   "metadata": {},
   "source": [
    "##### Summary stastics for Catagorical columun"
   ]
  },
  {
   "cell_type": "code",
   "execution_count": 269,
   "metadata": {},
   "outputs": [
    {
     "name": "stdout",
     "output_type": "stream",
     "text": [
      "\n",
      "### Categorical Summary Statistics:\n",
      "\n",
      "Sex Summary:\n",
      "male: 577\n",
      "female: 314\n",
      "\n",
      "Pclass Summary:\n",
      "3: 491\n",
      "1: 216\n",
      "2: 184\n",
      "\n",
      "Embarked Summary:\n",
      "S: 646\n",
      "C: 168\n",
      "Q: 77\n",
      "\n",
      "Survived Summary:\n",
      "0: 549\n",
      "1: 342\n"
     ]
    }
   ],
   "source": [
    "# Specify the columns to summarize\n",
    "summary_columns = ['Sex', 'Pclass', 'Embarked', 'Survived']\n",
    "\n",
    "# Generate summary statistics for the specified categorical columns\n",
    "categorical_summary = {}\n",
    "for column in summary_columns:\n",
    "    categorical_summary[column] = Titanic[column].value_counts()\n",
    "\n",
    "# Print the summary in a clear format\n",
    "print(\"\\n### Categorical Summary Statistics:\")\n",
    "for column, counts in categorical_summary.items():\n",
    "    print(f\"\\n{column} Summary:\")\n",
    "    for value, count in counts.items():\n",
    "        print(f\"{value}: {count}\")"
   ]
  },
  {
   "cell_type": "markdown",
   "metadata": {},
   "source": [
    "### Interpretation of Categorical Summary Statistics\n",
    "---\n",
    "\n",
    "##### **Sex Summary:**\n",
    "   - **Male:** There are 577 male passengers, accounting for approximately 64.7% of the total passenger count.\n",
    "   - **Female:** There are 314 female passengers, representing about 35.3% of the total.\n",
    "   - **Interpretation:** The Titanic passenger list had a significantly higher number of males than females, which may reflect societal norms of the time, where men often traveled more for work or exploration purposes.\n",
    "\n",
    "##### **Pclass Summary:**\n",
    "   - **Third Class (3):** The majority of passengers, 491 (55.1%), traveled in third class. This class typically included lower-income individuals and immigrants.\n",
    "   - **First Class (1):** There were 216 first-class passengers (24.3%), representing the wealthier individuals who could afford luxurious accommodations on the ship.\n",
    "   - **Second Class (2):** With 184 passengers (20.6%), second class catered to middle-class travelers.\n",
    "   - **Interpretation:** The distribution indicates that a large proportion of passengers belonged to the lower economic class (third class). This could reflect the demographics of the time, as the Titanic was known to carry many immigrants seeking a better life.\n",
    "\n",
    "##### **Embarked Summary:**\n",
    "   - **Southampton (S):** The majority of passengers (646 or 72.5%) embarked from Southampton, which was the primary port of departure for the Titanic.\n",
    "   - **Cherbourg (C):** There were 168 passengers (18.8%) who embarked from Cherbourg, a key French port.\n",
    "   - **Queenstown (Q):** Only 77 passengers (8.6%) boarded the ship in Queenstown (now Cobh, Ireland).\n",
    "   - **Interpretation:** The high number of passengers from Southampton reflects its significance as a major departure point for transatlantic voyages. The smaller numbers from Cherbourg and Queenstown could suggest that those locations served as secondary embarkation points.\n",
    "##### **Survived Summary:**\n",
    "\n",
    "-**Survived (0):**: 549 passengers\n",
    "- This group represents those who did not survive the sinking of the Titanic. With 549 out of a total of 891 passengers, approximately 61.7% of the passengers did not survive.\n",
    "\n",
    "-**Survived (1):** 342 passengers\n",
    "\n",
    "- This group represents those who survived the sinking. With 342 passengers surviving, this accounts for approximately 38.3% of the total.\n",
    "\n",
    "#####  Overall Insights:\n",
    "- The categorical statistics reveal important demographic insights about the Titanic passengers, showing a predominance of males and third-class passengers, alongside a strong representation from Southampton as the main embarkation port.\n",
    "- These statistics can inform analyses related to survival rates, socioeconomic factors, and demographic trends among Titanic passengers, as certain classes and sexes may have had different survival probabilities during the disaster. Understanding these distributions can help in creating a broader picture of the Titanic's passenger demographics and their experiences.\n",
    "\n",
    "---"
   ]
  },
  {
   "cell_type": "markdown",
   "metadata": {},
   "source": [
    "###  Visualization of Titanic Dataset"
   ]
  },
  {
   "cell_type": "markdown",
   "metadata": {},
   "source": [
    "##### How many survived?"
   ]
  },
  {
   "cell_type": "code",
   "execution_count": 270,
   "metadata": {},
   "outputs": [
    {
     "name": "stdout",
     "output_type": "stream",
     "text": [
      "The num_survive of passenger  is 342\n"
     ]
    }
   ],
   "source": [
    "# Filter the DataFrame for survived passengers\n",
    "titanic_survived = Titanic[Titanic['Survived'] == 1]\n",
    "\n",
    "# Get the number of survived passengers\n",
    "num_survived = len(titanic_survived)\n",
    "\n",
    "# Print the number of survived passengers\n",
    "print(f'The num_survive of passenger  is {num_survived}')\n"
   ]
  },
  {
   "cell_type": "markdown",
   "metadata": {},
   "source": [
    "##### Bar garph of Survival of passengers  status by `Sex`"
   ]
  },
  {
   "cell_type": "code",
   "execution_count": 271,
   "metadata": {},
   "outputs": [
    {
     "data": {
      "text/html": [
       "<div>\n",
       "<style scoped>\n",
       "    .dataframe tbody tr th:only-of-type {\n",
       "        vertical-align: middle;\n",
       "    }\n",
       "\n",
       "    .dataframe tbody tr th {\n",
       "        vertical-align: top;\n",
       "    }\n",
       "\n",
       "    .dataframe thead th {\n",
       "        text-align: right;\n",
       "    }\n",
       "</style>\n",
       "<table border=\"1\" class=\"dataframe\">\n",
       "  <thead>\n",
       "    <tr style=\"text-align: right;\">\n",
       "      <th>Survived</th>\n",
       "      <th>0</th>\n",
       "      <th>1</th>\n",
       "    </tr>\n",
       "    <tr>\n",
       "      <th>Sex</th>\n",
       "      <th></th>\n",
       "      <th></th>\n",
       "    </tr>\n",
       "  </thead>\n",
       "  <tbody>\n",
       "    <tr>\n",
       "      <th>female</th>\n",
       "      <td>81</td>\n",
       "      <td>233</td>\n",
       "    </tr>\n",
       "    <tr>\n",
       "      <th>male</th>\n",
       "      <td>468</td>\n",
       "      <td>109</td>\n",
       "    </tr>\n",
       "  </tbody>\n",
       "</table>\n",
       "</div>"
      ],
      "text/plain": [
       "Survived    0    1\n",
       "Sex               \n",
       "female     81  233\n",
       "male      468  109"
      ]
     },
     "execution_count": 271,
     "metadata": {},
     "output_type": "execute_result"
    }
   ],
   "source": [
    "# Group by 'Sex' and 'Survived' and count occurrences, explicitly setting observed=False\n",
    "survival_counts = Titanic.groupby(['Sex', 'Survived'], observed=False).size().unstack(fill_value=0)\n",
    "\n",
    "# Display the result\n",
    "survival_counts\n"
   ]
  },
  {
   "cell_type": "markdown",
   "metadata": {},
   "source": [
    "##### Intepretation: \n",
    "- **0** represents not survived \n",
    "- **1** represents survived"
   ]
  },
  {
   "cell_type": "code",
   "execution_count": 272,
   "metadata": {},
   "outputs": [
    {
     "data": {
      "image/png": "[encoded data removed]",
      "text/plain": [
       "<Figure size 800x600 with 1 Axes>"
      ]
     },
     "metadata": {},
     "output_type": "display_data"
    }
   ],
   "source": [
    "# 'Titanic' is  DataFrame and contains 'Survived' and 'Sex' columns\n",
    "# Set plot style and size\n",
    "plt.figure(figsize=(8, 6))\n",
    "sns.set_theme(style=\"whitegrid\")\n",
    "\n",
    "# Create a bar plot with custom colors and labels\n",
    "survival_counts.plot(kind='bar', stacked=True, color=[\"#d62728\", \"#1f77b4\"], ax=plt.gca())\n",
    "\n",
    "\n",
    "# Customize labels and title\n",
    "\n",
    "plt.title('Survival Status of passengers  by Sex', fontsize=14, weight='bold', pad=20)\n",
    "plt.xlabel('Sex', fontsize=14)\n",
    "plt.ylabel('Count of Passengers', fontsize=14)\n",
    "\n",
    "# Customize legend\n",
    "plt.xticks(rotation=0)\n",
    "plt.legend(\n",
    "    title='Survival Status',\n",
    "    labels=['Not Survived', 'Survived'],\n",
    "    loc='upper left',\n",
    "    fontsize=10,\n",
    "    title_fontsize=12\n",
    ")\n",
    "# Show plot\n",
    "plt.show()\n"
   ]
  },
  {
   "cell_type": "markdown",
   "metadata": {},
   "source": [
    "#### Interpretation\n",
    "- The graph titled \"Survival Status of Passengers by Sex\" shows the distribution of survival and non-survival among male and female passengers.\n",
    "\n",
    "- **Survival Rate:**\n",
    "    - **Females:** Approximately 233 out of 314 females survived, indicating a higher survival rate.\n",
    "    - **Males:** Approximately 109 out of 577 males survived, indicating a lower survival rate.\n",
    "\n",
    "- **Non-Survival Rate:**\n",
    "    - **Females:** Approximately 81 out of 314 females did not survive.\n",
    "    - **Males:** Approximately 468 out of 577 males did not survive.\n",
    "\n",
    "- **Overall:**\n",
    "    - The chart suggests that females had a significantly higher chance of survival compared to males on this particular journey, due to several factors such as the `\"Female First protocol.\"`\n"
   ]
  },
  {
   "cell_type": "markdown",
   "metadata": {},
   "source": [
    "##### Bar garph of Survival of passengers  status by `Pclass`"
   ]
  },
  {
   "cell_type": "code",
   "execution_count": 216,
   "metadata": {},
   "outputs": [
    {
     "data": {
      "text/html": [
       "<div>\n",
       "<style scoped>\n",
       "    .dataframe tbody tr th:only-of-type {\n",
       "        vertical-align: middle;\n",
       "    }\n",
       "\n",
       "    .dataframe tbody tr th {\n",
       "        vertical-align: top;\n",
       "    }\n",
       "\n",
       "    .dataframe thead th {\n",
       "        text-align: right;\n",
       "    }\n",
       "</style>\n",
       "<table border=\"1\" class=\"dataframe\">\n",
       "  <thead>\n",
       "    <tr style=\"text-align: right;\">\n",
       "      <th>Survived</th>\n",
       "      <th>0</th>\n",
       "      <th>1</th>\n",
       "    </tr>\n",
       "    <tr>\n",
       "      <th>Pclass</th>\n",
       "      <th></th>\n",
       "      <th></th>\n",
       "    </tr>\n",
       "  </thead>\n",
       "  <tbody>\n",
       "    <tr>\n",
       "      <th>1</th>\n",
       "      <td>80</td>\n",
       "      <td>136</td>\n",
       "    </tr>\n",
       "    <tr>\n",
       "      <th>2</th>\n",
       "      <td>97</td>\n",
       "      <td>87</td>\n",
       "    </tr>\n",
       "    <tr>\n",
       "      <th>3</th>\n",
       "      <td>372</td>\n",
       "      <td>119</td>\n",
       "    </tr>\n",
       "  </tbody>\n",
       "</table>\n",
       "</div>"
      ],
      "text/plain": [
       "Survived    0    1\n",
       "Pclass            \n",
       "1          80  136\n",
       "2          97   87\n",
       "3         372  119"
      ]
     },
     "execution_count": 216,
     "metadata": {},
     "output_type": "execute_result"
    },
    {
     "data": {
      "text/html": [
       "<div>\n",
       "<style scoped>\n",
       "    .dataframe tbody tr th:only-of-type {\n",
       "        vertical-align: middle;\n",
       "    }\n",
       "\n",
       "    .dataframe tbody tr th {\n",
       "        vertical-align: top;\n",
       "    }\n",
       "\n",
       "    .dataframe thead th {\n",
       "        text-align: right;\n",
       "    }\n",
       "</style>\n",
       "<table border=\"1\" class=\"dataframe\">\n",
       "  <thead>\n",
       "    <tr style=\"text-align: right;\">\n",
       "      <th>Survived</th>\n",
       "      <th>0</th>\n",
       "      <th>1</th>\n",
       "    </tr>\n",
       "    <tr>\n",
       "      <th>Pclass</th>\n",
       "      <th></th>\n",
       "      <th></th>\n",
       "    </tr>\n",
       "  </thead>\n",
       "  <tbody>\n",
       "    <tr>\n",
       "      <th>1</th>\n",
       "      <td>80</td>\n",
       "      <td>136</td>\n",
       "    </tr>\n",
       "    <tr>\n",
       "      <th>2</th>\n",
       "      <td>97</td>\n",
       "      <td>87</td>\n",
       "    </tr>\n",
       "    <tr>\n",
       "      <th>3</th>\n",
       "      <td>372</td>\n",
       "      <td>119</td>\n",
       "    </tr>\n",
       "  </tbody>\n",
       "</table>\n",
       "</div>"
      ],
      "text/plain": [
       "Survived    0    1\n",
       "Pclass            \n",
       "1          80  136\n",
       "2          97   87\n",
       "3         372  119"
      ]
     },
     "execution_count": 273,
     "metadata": {},
     "output_type": "execute_result"
    }
   ],
   "source": [
    "# Group the data by 'Pclass' and 'Survived' and count the occurrences\n",
    "survival_counts_1 = Titanic.groupby(['Pclass', 'Survived'],observed=False).size().unstack(fill_value=0)\n",
    "survival_counts_1\n"
   ]
  },
  {
   "cell_type": "code",
   "execution_count": 217,
   "metadata": {},
   "outputs": [
    {
     "data": {
      "image/png": "[encoded data removed]",
      "text/plain": [
       "<Figure size 800x600 with 1 Axes>"
      ]
     },
     "metadata": {},
     "output_type": "display_data"
    }
   ],
   "source": [
    "# Plotting the stacked bar chart\n",
    "plt.figure(figsize=(8, 6))\n",
    "\n",
    "# Create the stacked bar chart\n",
    "survival_counts_1.plot(kind='bar', stacked=True, color=['#FF7F7F', '#00C8C8'], ax=plt.gca())\n",
    "\n",
    "# Customizing the plot\n",
    "plt.title('Survival Status by Economic Class (Pclass)', fontsize=12, weight='bold', pad=20)\n",
    "plt.xlabel('Economic Class (Pclass)', fontsize=12)\n",
    "plt.ylabel('Count of Passengers', fontsize=12)\n",
    "plt.xticks(rotation=0)  # Rotate x labels to be horizontal\n",
    "plt.legend(title='Survival Status', labels=['Not Survived', 'Survived'], fontsize=12, title_fontsize=13)\n",
    "\n",
    "# Show plot\n",
    "plt.show()\n"
   ]
  },
  {
   "cell_type": "markdown",
   "metadata": {},
   "source": [
    "##### Interpretation\n",
    "\n",
    "<div align=\"center\">\n",
    "\n",
    "<table style=\"width: 50%; margin: auto;\">\n",
    "    <tr>\n",
    "        <th>Class</th>\n",
    "        <th>Not Survived</th>\n",
    "        <th>Survived</th>\n",
    "        <th>Total</th>\n",
    "        <th>Survival Rate (%)</th>\n",
    "    </tr>\n",
    "    <tr>\n",
    "        <td>1</td>\n",
    "        <td>80</td>\n",
    "        <td>136</td>\n",
    "        <td>216</td>\n",
    "        <td>63.0%</td>\n",
    "    </tr>\n",
    "    <tr>\n",
    "        <td>2</td>\n",
    "        <td>97</td>\n",
    "        <td>87</td>\n",
    "        <td>184</td>\n",
    "        <td>47.3%</td>\n",
    "    </tr>\n",
    "    <tr>\n",
    "        <td>3</td>\n",
    "        <td>372</td>\n",
    "        <td>119</td>\n",
    "        <td>491</td>\n",
    "        <td>24.2%</td>\n",
    "    </tr>\n",
    "</table>\n",
    "\n",
    "</div>\n",
    "\n",
    "The graph visually represents the stark disparity in survival rates among different economic classes on the Titanic.\n",
    "\n",
    "\n",
    "-  **Class Disparity:**\n",
    "   - **Class 1:** Passengers in the first class had the highest survival rate, with over 63% surviving the disaster.\n",
    "   - **Class 2:** While still higher than the lowest class, the survival rate for second-class passengers was significantly lower, at approximately 47.3%.\n",
    "   - **Class 3:** Passengers in the third class had the lowest survival rate, with only about 24.2% surviving the disaster.\n",
    "   \n",
    "`Note that ; the percentage representation is in relative at  each classlevel in comparsion to the class total`\n",
    "- **Factors Influencing Survival:**\n",
    "   - **Location on the Ship:** The location of cabins and access to lifeboats were crucial factors. First-class passengers were often located on higher decks, closer to lifeboats, and had quicker access to them.\n",
    "   \n",
    "   - **Physical Barriers:** Physical barriers, such as locked gates and crowded decks, may have hindered the escape of lower-class passengers.\n",
    "\n",
    "- The data also shown that most of the survived passengers are from the Upper Class (136 people). But to be precise, from the calculation of survival rate ratio of each classes, it also shown that the Upper Class gets more than 50% survival rate, and the Lower Class only got 24% of survival rate.\n",
    "\n",
    "- In conclusion, the graph clearly illustrates the stark inequality in survival chances based on economic class. This tragic event highlights the social and economic disparities of the time and the impact of these disparities on human life.\n"
   ]
  },
  {
   "cell_type": "markdown",
   "metadata": {},
   "source": [
    "##### How does `Ticket` class affect the rate of survival?\n"
   ]
  },
  {
   "cell_type": "markdown",
   "metadata": {},
   "source": [
    "#### Pie chart of Embarkment of Titanic_Dataset"
   ]
  },
  {
   "cell_type": "code",
   "execution_count": 218,
   "metadata": {},
   "outputs": [
    {
     "data": {
      "text/plain": [
       "Embarked\n",
       "S    646\n",
       "C    168\n",
       "Q     77\n",
       "Name: count, dtype: int64"
      ]
     },
     "execution_count": 218,
     "metadata": {},
     "output_type": "execute_result"
    }
   ],
   "source": [
    "# Summarize the data to get the count of passengers for each embarkation port\n",
    "embarkation_counts = Titanic['Embarked'].value_counts()\n",
    "\n",
    "# Display the results\n",
    "embarkation_counts"
   ]
  },
  {
   "cell_type": "markdown",
   "metadata": {},
   "source": [
    "`This indicates that:`\n",
    "\n",
    "- 644 passengers embarked from Southampton ('S').\n",
    "- 168 passengers embarked from Cherbourg ('C').\n",
    "- 77 passengers embarked from Queenstown ('Q')."
   ]
  },
  {
   "cell_type": "code",
   "execution_count": 219,
   "metadata": {},
   "outputs": [
    {
     "name": "stdout",
     "output_type": "stream",
     "text": [
      "  Embarkation Port  Passenger Count\n",
      "0                S              646\n",
      "1                C              168\n",
      "2                Q               77\n"
     ]
    }
   ],
   "source": [
    "# Convert to DataFrame for better presentation\n",
    "embarkation_counts_df = embarkation_counts.reset_index()\n",
    "embarkation_counts_df.columns = ['Embarkation Port', 'Passenger Count']\n",
    "\n",
    "# Display the DataFrame\n",
    "print(embarkation_counts_df)"
   ]
  },
  {
   "cell_type": "code",
   "execution_count": 220,
   "metadata": {},
   "outputs": [
    {
     "data": {
      "image/png": "[encoded data removed]",
      "text/plain": [
       "<Figure size 400x400 with 1 Axes>"
      ]
     },
     "metadata": {},
     "output_type": "display_data"
    }
   ],
   "source": [
    "# Create the pie chart using Matplotlib\n",
    "plt.figure(figsize=(4, 4))\n",
    "\n",
    "# Define colors using a Seaborn color palette\n",
    "colors = sns.color_palette(\"pastel\")\n",
    "\n",
    "# Create the pie chart without labels on slices\n",
    "plt.pie(embarkation_counts, autopct='%1.1f%%', startangle=140, colors=colors)\n",
    "\n",
    "# Title\n",
    "plt.title('Distribution of Passengers by Embarkation Port', fontsize=16, weight='bold')\n",
    "plt.axis('equal')  # Equal aspect ratio ensures that pie is drawn as a circle.\n",
    "\n",
    "# Create a custom legend\n",
    "# Adding the legend to the upper left corner\n",
    "plt.legend(\n",
    "    labels=embarkation_counts.index,\n",
    "    title=\"Embarkation Ports\",\n",
    "    loc='upper left',\n",
    "    bbox_to_anchor=(1, 1),  # Adjust the position of the legend\n",
    "    fontsize=10,\n",
    "    title_fontsize=12,\n",
    "    facecolor='white'\n",
    ")\n",
    "\n",
    "# Show the plot\n",
    "plt.show()"
   ]
  },
  {
   "cell_type": "markdown",
   "metadata": {},
   "source": [
    "#### `Distribution of Passengers by Embarkation Port`\n",
    "---\n",
    "\n",
    "The pie chart titled **\"Distribution of Passengers by Embarkation Port\"** illustrates the proportion of passengers who embarked from different ports:\n",
    "\n",
    "- **Southampton (S)**: The largest proportion of passengers (72.5%) boarded the ship in Southampton.\n",
    "- **Cherbourg (C)**: Approximately 18.9% of passengers embarked from Cherbourg.\n",
    "- **Queenstown (Q)**: The smallest proportion of passengers (8.6%) boarded in Queenstown.\n",
    "\n",
    "### Interpretation:\n",
    "\n",
    "The chart indicates that **Southampton** was the primary embarkation port for the majority of passengers on the ship. **Cherbourg** had a significant number of passengers as well, while **Queenstown** had the fewest. This information can be useful for understanding the geographical distribution of passengers and potentially other aspects of the ship's journey.\n",
    "\n",
    "--- \n"
   ]
  },
  {
   "cell_type": "code",
   "execution_count": 240,
   "metadata": {},
   "outputs": [
    {
     "name": "stdout",
     "output_type": "stream",
     "text": [
      "Embarked\n",
      "S    219\n",
      "C     93\n",
      "Q     30\n",
      "Name: count, dtype: int64\n"
     ]
    }
   ],
   "source": [
    "\n",
    "# Get a summary of the 'Embarked' column\n",
    "embarked_summary = titanic_survived['Embarked'].value_counts()\n",
    "\n",
    "# Print the summary\n",
    "print(embarked_summary)\n"
   ]
  },
  {
   "cell_type": "markdown",
   "metadata": {},
   "source": [
    "##### Cherbourg"
   ]
  },
  {
   "cell_type": "code",
   "execution_count": 243,
   "metadata": {},
   "outputs": [
    {
     "data": {
      "text/plain": [
       "55.36"
      ]
     },
     "execution_count": 243,
     "metadata": {},
     "output_type": "execute_result"
    }
   ],
   "source": [
    "# Given values\n",
    "survivors_C = 93\n",
    "total_passengers_C = 168\n",
    "\n",
    "# Calculate the survival ratio\n",
    "ratio_C = round((survivors_C / total_passengers_C) * 100,2)\n",
    "ratio_C"
   ]
  },
  {
   "cell_type": "markdown",
   "metadata": {},
   "source": [
    "##### Queenstown"
   ]
  },
  {
   "cell_type": "code",
   "execution_count": 245,
   "metadata": {},
   "outputs": [
    {
     "data": {
      "text/plain": [
       "38.96"
      ]
     },
     "execution_count": 245,
     "metadata": {},
     "output_type": "execute_result"
    }
   ],
   "source": [
    "# Given values\n",
    "survivors_Q = 30\n",
    "total_passengers_Q = 77\n",
    "\n",
    "# Calculate the survival ratio\n",
    "ratio_Q = round((survivors_Q / total_passengers_Q) * 100,2)\n",
    "ratio_Q\n"
   ]
  },
  {
   "cell_type": "markdown",
   "metadata": {},
   "source": [
    "##### Southampton"
   ]
  },
  {
   "cell_type": "code",
   "execution_count": 247,
   "metadata": {},
   "outputs": [
    {
     "data": {
      "text/plain": [
       "33.7"
      ]
     },
     "execution_count": 247,
     "metadata": {},
     "output_type": "execute_result"
    }
   ],
   "source": [
    "# Given values\n",
    "survivors_S = 217\n",
    "total_passengers_S = 644\n",
    "\n",
    "# Calculate the survival ratio\n",
    "ratio_S = round((survivors_S / total_passengers_S) * 100,2)\n",
    "ratio_S"
   ]
  },
  {
   "cell_type": "markdown",
   "metadata": {},
   "source": [
    "###  Histogram of Age distribution of passengers  by Survival status"
   ]
  },
  {
   "cell_type": "code",
   "execution_count": 223,
   "metadata": {},
   "outputs": [
    {
     "data": {
      "image/png": "[encoded data removed]",
      "text/plain": [
       "<Figure size 1400x600 with 2 Axes>"
      ]
     },
     "metadata": {},
     "output_type": "display_data"
    }
   ],
   "source": [
    "# Set up the figure with two subplots\n",
    "fig, axs = plt.subplots(1, 2, figsize=(14, 6))\n",
    "\n",
    "# Plot 1: Histogram with Survival Status hues\n",
    "sns.histplot(data=Titanic, x='Age', hue='Survived', bins=30, \n",
    "             multiple='stack', palette=['lightcoral', 'lightgreen'], alpha=0.6, ax=axs[0])\n",
    "\n",
    "# Customize labels and title for the histogram\n",
    "axs[0].set_title(\"Distribution of Age by Survival Status\", fontsize=16, weight='bold')\n",
    "axs[0].set_xlabel(\"Age\", fontsize=14)\n",
    "axs[0].set_ylabel(\"Frequency\", fontsize=14)\n",
    "axs[0].legend(title='Survival Status', labels=['Not Survived', 'Survived'], fontsize=10)\n",
    "\n",
    "# Plot 2: Separate Normal Distribution Curve\n",
    "age_mean = Titanic['Age'].mean()\n",
    "age_std = Titanic['Age'].std()\n",
    "x_values = np.linspace(Titanic['Age'].min(), Titanic['Age'].max(), 100)\n",
    "y_values = norm.pdf(x_values, age_mean, age_std)\n",
    "\n",
    "axs[1].plot(x_values, y_values, color='blue', linestyle='--', linewidth=2)\n",
    "axs[1].fill_between(x_values, y_values, color='lightblue', alpha=0.3)\n",
    "\n",
    "# Customize labels and title for the normal distribution plot\n",
    "axs[1].set_title(\"Distribution Curve for Age\", fontsize=16, weight='bold')\n",
    "axs[1].set_xlabel(\"Age\", fontsize=14)\n",
    "axs[1].set_ylabel(\"Density\", fontsize=14)\n",
    "\n",
    "# Show the plots\n",
    "plt.tight_layout()\n",
    "plt.show()\n"
   ]
  },
  {
   "cell_type": "markdown",
   "metadata": {},
   "source": [
    "##### `\"Distribution of Age by Survival Status\"`\n",
    "\n",
    "##### Overview:\n",
    "The histogram shows the distribution of passenger ages, categorized by their survival status (survived or not survived). It provides insights into how age influenced survival on the Titanic.\n",
    "\n",
    "- **Age Distribution:** The graph reveals a wide range of ages among passengers, from infants to elderly individuals.\n",
    "- **Survival Trends:**\n",
    "  - **Children:** Younger passengers, especially children, had a higher survival rate. This is evident from the taller green bars in the younger age groups.\n",
    "  - **Adults:** The middle-aged group (around 20-40 years old) had a lower survival rate, as indicated by the taller red bars in this range.\n",
    "  - **Elderly:** Older passengers also had a lower survival rate, though this is less pronounced compared to the middle-aged group.\n",
    "\n",
    "##### Possible Explanations:\n",
    "---\n",
    "- shown that the mean of age of survival in the Titanic accident are around 29 years old. This could also happen because those mostly survived are female.\n",
    "- **Social Factors:** Social norms and expectations might have influenced the order of evacuation, with women and children often being prioritized.\n",
    "\n",
    "##### In Conclusion:\n",
    "\n",
    "The graph suggests that age was a significant factor in determining survival on the Titanic. Younger passengers, particularly children, had a higher chance of survival, while middle-aged and older individuals were less likely to survive. These findings highlight the complex interplay between age, social factors, and physical attributes in shaping the outcome of the disaster.\n",
    "\n",
    "---\n"
   ]
  },
  {
   "cell_type": "code",
   "execution_count": 228,
   "metadata": {},
   "outputs": [
    {
     "name": "stderr",
     "output_type": "stream",
     "text": [
      "C:\\Users\\Admin\\AppData\\Local\\Temp\\ipykernel_10360\\4237704276.py:19: FutureWarning: \n",
      "\n",
      "Passing `palette` without assigning `hue` is deprecated and will be removed in v0.14.0. Assign the `x` variable to `hue` and set `legend=False` for the same effect.\n",
      "\n",
      "  sns.barplot(data=survival_by_deck, x='Deck', y='Survival Rate', palette='pastel')\n"
     ]
    },
    {
     "data": {
      "image/png": "[encoded data removed]",
      "text/plain": [
       "<Figure size 1000x600 with 1 Axes>"
      ]
     },
     "metadata": {},
     "output_type": "display_data"
    },
    {
     "name": "stdout",
     "output_type": "stream",
     "text": [
      "  Deck  Survival Rate\n",
      "0    A       0.466667\n",
      "1    B       0.620690\n",
      "2    C       0.593220\n",
      "3    D       0.492537\n",
      "4    E       0.750000\n",
      "5    F       0.615385\n",
      "6    G       0.238095\n",
      "7    T       0.000000\n"
     ]
    }
   ],
   "source": [
    "# Handle the Cabin data\n",
    "Titanic['Deck'] = Titanic['Cabin'].str[0]  # Extract the first letter\n",
    "Titanic['Deck'] = Titanic['Deck'].fillna('Unknown')  # Fill NaN values\n",
    "\n",
    "# Ensure Survived is numeric\n",
    "Titanic['Survived'] = pd.to_numeric(Titanic['Survived'], errors='coerce')\n",
    "\n",
    "# Calculate survival rates by Deck\n",
    "survival_by_deck = Titanic.groupby('Deck')['Survived'].mean().reset_index()\n",
    "\n",
    "# Rename columns for clarity\n",
    "survival_by_deck.columns = ['Deck', 'Survival Rate']\n",
    "\n",
    "# Set the plot style\n",
    "sns.set_theme(style=\"whitegrid\")\n",
    "\n",
    "# Create a bar plot\n",
    "plt.figure(figsize=(10, 6))\n",
    "sns.barplot(data=survival_by_deck, x='Deck', y='Survival Rate', palette='pastel')\n",
    "\n",
    "# Adding titles and labels\n",
    "plt.title('Survival Rate by Cabin Deck', fontsize=16)\n",
    "plt.xlabel('Cabin Deck', fontsize=12)\n",
    "plt.ylabel('Survival Rate', fontsize=12)\n",
    "\n",
    "# Show the plot\n",
    "plt.show()\n",
    "\n",
    "# Display survival rates for further analysis\n",
    "print(survival_by_deck)\n",
    "\n"
   ]
  },
  {
   "cell_type": "markdown",
   "metadata": {},
   "source": [
    "##### Interpreting the \"Survival Rate by Cabin Deck\" Graph\n",
    "---\n",
    "The bar graph illustrates the survival rates of passengers based on their cabin deck on the Titanic. Each bar represents a different deck, and the height of the bar indicates the proportion of passengers from that deck who survived.\n",
    "\n",
    "##### Key Observations:\n",
    "- **Deck E**: This deck had the highest survival rate, suggesting that passengers in this cabin class had a significantly better chance of survival.\n",
    "- **Deck C and B**: These decks had the next highest survival rates, indicating a relatively good chance of survival for passengers in these cabins.\n",
    "- **Deck A and F**: These decks had moderate survival rates, suggesting a somewhat balanced chance of survival for passengers in these cabins.\n",
    "- **Deck G and T**: These decks had the lowest survival rates, indicating a significantly lower chance of survival for passengers in these cabins.\n",
    "\n",
    "##### Possible Explanations:\n",
    "- **Location on the Ship**: The location of the cabin deck on the ship played a crucial role in determining survival rates. Decks located higher on the ship were generally closer to lifeboats and had better access to escape routes.\n",
    "- **Social Status and Class**: Passengers in higher-class cabins (like Deck E) may have had privileged access to lifeboats and rescue efforts due to their social status.\n",
    "- **Physical Barriers**: Physical barriers, such as locked gates and crowded decks, may have hindered the escape of passengers from lower decks.\n",
    "\n",
    "##### In Conclusion:\n",
    "The graph clearly demonstrates that cabin deck was a significant factor in determining survival on the Titanic. Passengers in higher-deck cabins had a significantly better chance of survival compared to those in lower-deck cabins. This highlights the impact of social class, location, and other factors on the outcome of the disaster.\n",
    "\n",
    "---"
   ]
  },
  {
   "cell_type": "code",
   "execution_count": 233,
   "metadata": {},
   "outputs": [
    {
     "name": "stderr",
     "output_type": "stream",
     "text": [
      "C:\\Users\\Admin\\AppData\\Local\\Temp\\ipykernel_10360\\654433164.py:2: FutureWarning: \n",
      "\n",
      "Passing `palette` without assigning `hue` is deprecated and will be removed in v0.14.0. Assign the `x` variable to `hue` and set `legend=False` for the same effect.\n",
      "\n",
      "  sns.boxplot(x='Pclass', y='Fare', data=Titanic, palette='Blues', linewidth=1.5, hue=None)\n"
     ]
    },
    {
     "data": {
      "image/png": "[encoded data removed]",
      "text/plain": [
       "<Figure size 640x480 with 1 Axes>"
      ]
     },
     "metadata": {},
     "output_type": "display_data"
    }
   ],
   "source": [
    "# Assuming Titanic DataFrame is defined\n",
    "sns.boxplot(x='Pclass', y='Fare', data=Titanic, palette='Blues', linewidth=1.5, hue=None)\n",
    "\n",
    "plt.title('Boxplot of Fare by Passenger Class')\n",
    "plt.xlabel('Passenger Class')\n",
    "plt.ylabel('Fare')\n",
    "plt.show()\n"
   ]
  },
  {
   "cell_type": "markdown",
   "metadata": {},
   "source": [
    "##### Interpreting the Boxplot of Fare by Passenger Class\n",
    "\n",
    "##### Overview\n",
    "The boxplot visually represents the distribution of fares across different passenger classes on the Titanic, highlighting central tendencies, spreads, and potential outliers.\n",
    "\n",
    "##### Key Observations:\n",
    "\n",
    "- **Median Fare:**\n",
    "  - **1st Class:** Significantly higher median fare, indicating substantial payments by most passengers.\n",
    "  - **2nd Class:** Lower median than first-class but higher than third-class.\n",
    "  - **3rd Class:** Lowest median fare, reflecting more affordable ticket prices.\n",
    "\n",
    "- **Interquartile Range (IQR):**\n",
    "  - **1st Class:** Wide IQR, suggesting a diverse range of fares due to varying cabin types and amenities.\n",
    "  - **2nd Class:** Smaller IQR than first-class, larger than third-class.\n",
    "  - **3rd Class:** Smallest IQR, indicating consistent pricing.\n",
    "\n",
    "- **Outliers:**\n",
    "  - **1st Class:** Several high-end outliers, showing some passengers paid much more than typical fares.\n",
    "  - **2nd Class:** A few high-end outliers present.\n",
    "  - **3rd Class:** No significant outliers, indicating a stable pricing strategy.\n",
    "\n",
    "##### Conclusion\n",
    "The boxplot illustrates the significant fare disparities among the three classes, with first-class passengers paying the most and exhibiting a wider range of prices. This reflects the social and economic stratification of Titanic passengers.\n"
   ]
  },
  {
   "cell_type": "code",
   "execution_count": 234,
   "metadata": {},
   "outputs": [
    {
     "data": {
      "image/png": "[encoded data removed]",
      "text/plain": [
       "<Figure size 800x600 with 1 Axes>"
      ]
     },
     "metadata": {},
     "output_type": "display_data"
    }
   ],
   "source": [
    "# Calculate the average fare for each passenger class\n",
    "average_fare_by_class = Titanic.groupby('Pclass', observed=False)['Fare'].mean().reset_index()\n",
    "\n",
    "# Create the line plot\n",
    "plt.figure(figsize=(8, 6))\n",
    "sns.lineplot(data=average_fare_by_class, x='Pclass', y='Fare', marker='o')\n",
    "\n",
    "# Customize the plot\n",
    "plt.title('Average Fare by Passenger Class', fontsize=16)\n",
    "plt.xlabel('Passenger Class', fontsize=14)\n",
    "plt.ylabel('Average Fare', fontsize=14)\n",
    "plt.xticks(ticks=[1, 2, 3], labels=['1st', '2nd', '3rd'])\n",
    "plt.grid(True)\n",
    "plt.show()\n"
   ]
  },
  {
   "cell_type": "markdown",
   "metadata": {},
   "source": [
    "##### Interpreting the \"Average Fare by Passenger Class\" Graph\n",
    "\n",
    "**Overview:**\n",
    "\n",
    "The line graph visualizes the average fare paid by passengers in each of the three passenger classes on the Titanic. It provides insights into the relationship between passenger class and the cost of tickets.\n",
    "\n",
    "**Key Observations:**\n",
    "\n",
    "- **Clear Trend:** The graph shows a clear downward trend, indicating that the average fare decreases as the passenger class decreases.\n",
    "- **Significant Difference Between Classes:** The average fare for first-class passengers is significantly higher than that of second and third-class passengers.\n",
    "- **Moderate Difference Between Second and Third Class:** While there is a difference between the average fares of second and third-class passengers, the difference is less pronounced than that between first and second class.\n",
    "\n",
    "**Possible Explanations:**\n",
    "\n",
    "- **Amenities and Services:** First-class passengers had access to luxurious amenities, such as private cabins, dining rooms, and recreational facilities, which contributed to the higher cost of tickets.\n",
    "- **Location on the Ship:** First-class cabins were often located on the upper decks of the ship, offering better views and more spacious accommodations.\n",
    "- **Social Status and Prestige:** First-class tickets were associated with higher social status and prestige, which also contributed to the higher cost.\n",
    "\n",
    "**In Conclusion:**\n",
    "\n",
    "The graph illustrates the significant disparity in fares between the three passenger classes on the Titanic. This disparity reflects the social and economic stratification of the passengers and the different levels of comfort and luxury offered by each class.\n"
   ]
  },
  {
   "cell_type": "code",
   "execution_count": 232,
   "metadata": {},
   "outputs": [
    {
     "data": {
      "image/png": "[encoded data removed]",
      "text/plain": [
       "<Figure size 800x500 with 1 Axes>"
      ]
     },
     "metadata": {},
     "output_type": "display_data"
    }
   ],
   "source": []
  },
  {
   "cell_type": "markdown",
   "metadata": {},
   "source": [
    "##### Interpretation of the \"Ticket Class of Survived Passengers\" Graph\n",
    "\n",
    "#### Overview\n",
    "This bar graph shows the distribution of survived passengers across different ticket classes on the Titanic. The height of each bar represents the number of passengers who survived from that particular class.\n",
    "\n",
    "##### Key Observations\n",
    "- **Class 3 Dominance:** The tallest bar corresponds to Class 3, indicating that the majority of survivors came from this class. This is surprising considering the general perception that higher classes had better survival rates.\n",
    "- **Class 1 and 2:** The bars for Class 1 and Class 2 are significantly shorter than Class 3, suggesting that fewer passengers from these classes survived.\n",
    "\n",
    "##### Possible Explanations\n",
    "- **Class 3 Passenger Distribution:**\n",
    "  - A larger number of Class 3 passengers might have been located on the lower decks, which were closer to the lifeboats. This could have allowed them to reach the lifeboats more quickly compared to passengers in higher classes who might have been trapped on upper decks.\n",
    "  \n",
    "- **Social Factors and Priorities:**\n",
    "  - Social norms and expectations of the time might have influenced the order of evacuation, with women and children often being prioritized, regardless of their class. This could explain why a larger number of Class 3 women and children survived, even though they were in the lowest class.\n",
    "  \n",
    "- **Crew and Staff:**\n",
    "  - Many crew members and staff were in lower-class cabins, and they may have had better knowledge of the ship's layout and emergency procedures. This could have contributed to their higher survival rate.\n",
    "\n",
    "##### In Conclusion\n",
    "The graph challenges the common perception that higher-class passengers had a better chance of survival. It suggests that factors like location on the ship, social norms, and the role of crew members played a significant role in determining survival outcomes, regardless of passenger class.\n"
   ]
  }
 ],
 "metadata": {
  "kernelspec": {
   "display_name": "Python 3",
   "language": "python",
   "name": "python3"
  },
  "language_info": {
   "codemirror_mode": {
    "name": "ipython",
    "version": 3
   },
   "file_extension": ".py",
   "mimetype": "text/x-python",
   "name": "python",
   "nbconvert_exporter": "python",
   "pygments_lexer": "ipython3",
   "version": "3.12.4"
  }
 },
 "nbformat": 4,
 "nbformat_minor": 2
}
